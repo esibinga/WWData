{
 "cells": [
  {
   "cell_type": "markdown",
   "metadata": {},
   "source": [
    "### Eva Sibinga\n",
    "### Working With Data - Assignment #4\n",
    "### March 23, 2020"
   ]
  },
  {
   "cell_type": "markdown",
   "metadata": {},
   "source": [
    "This notebook will help you understand how to (a) open an external data source and determine the format of the data source; (b) create a DataFrame for the data; (c) verify the data; and, (d) visualize some aspect of the data -- that is, find one key insight and describe it."
   ]
  },
  {
   "cell_type": "markdown",
   "metadata": {},
   "source": [
    "First, we need to import the Python packages that contain the functions we'll use. We need pandas for dataframe functionality, numpy for mathematical capabilites, statsmodels.api to create a least squares model of our data, and matplotlib.pyplot for to make charts and graphs."
   ]
  },
  {
   "cell_type": "code",
   "execution_count": 29,
   "metadata": {},
   "outputs": [],
   "source": [
    "import pandas as pd\n",
    "import numpy as np\n",
    "import statsmodels.api as sm\n",
    "import matplotlib.pyplot as plt"
   ]
  },
  {
   "cell_type": "markdown",
   "metadata": {},
   "source": [
    "It's good practice to import these packages up top so that they are available to you throughout the course of your work, since Python runs top to bottom and will produce an error if packages are not installed before you try to use them.\n",
    "\n",
    "Pandas includes functions to read in files of different types, from different sources. Say you're trying to access a JSON file directly from a website:"
   ]
  },
  {
   "cell_type": "code",
   "execution_count": 2,
   "metadata": {},
   "outputs": [
    {
     "data": {
      "text/html": [
       "<div>\n",
       "<style scoped>\n",
       "    .dataframe tbody tr th:only-of-type {\n",
       "        vertical-align: middle;\n",
       "    }\n",
       "\n",
       "    .dataframe tbody tr th {\n",
       "        vertical-align: top;\n",
       "    }\n",
       "\n",
       "    .dataframe thead th {\n",
       "        text-align: right;\n",
       "    }\n",
       "</style>\n",
       "<table border=\"1\" class=\"dataframe\">\n",
       "  <thead>\n",
       "    <tr style=\"text-align: right;\">\n",
       "      <th></th>\n",
       "      <th>ca</th>\n",
       "      <th>community_area_name</th>\n",
       "      <th>hardship_index</th>\n",
       "      <th>per_capita_income_</th>\n",
       "      <th>percent_aged_16_unemployed</th>\n",
       "      <th>percent_aged_25_without_high_school_diploma</th>\n",
       "      <th>percent_aged_under_18_or_over_64</th>\n",
       "      <th>percent_households_below_poverty</th>\n",
       "      <th>percent_of_housing_crowded</th>\n",
       "    </tr>\n",
       "  </thead>\n",
       "  <tbody>\n",
       "    <tr>\n",
       "      <th>0</th>\n",
       "      <td>1.0</td>\n",
       "      <td>Rogers Park</td>\n",
       "      <td>39.0</td>\n",
       "      <td>23939</td>\n",
       "      <td>8.7</td>\n",
       "      <td>18.2</td>\n",
       "      <td>27.5</td>\n",
       "      <td>23.6</td>\n",
       "      <td>7.7</td>\n",
       "    </tr>\n",
       "    <tr>\n",
       "      <th>1</th>\n",
       "      <td>2.0</td>\n",
       "      <td>West Ridge</td>\n",
       "      <td>46.0</td>\n",
       "      <td>23040</td>\n",
       "      <td>8.8</td>\n",
       "      <td>20.8</td>\n",
       "      <td>38.5</td>\n",
       "      <td>17.2</td>\n",
       "      <td>7.8</td>\n",
       "    </tr>\n",
       "    <tr>\n",
       "      <th>2</th>\n",
       "      <td>3.0</td>\n",
       "      <td>Uptown</td>\n",
       "      <td>20.0</td>\n",
       "      <td>35787</td>\n",
       "      <td>8.9</td>\n",
       "      <td>11.8</td>\n",
       "      <td>22.2</td>\n",
       "      <td>24.0</td>\n",
       "      <td>3.8</td>\n",
       "    </tr>\n",
       "    <tr>\n",
       "      <th>3</th>\n",
       "      <td>4.0</td>\n",
       "      <td>Lincoln Square</td>\n",
       "      <td>17.0</td>\n",
       "      <td>37524</td>\n",
       "      <td>8.2</td>\n",
       "      <td>13.4</td>\n",
       "      <td>25.5</td>\n",
       "      <td>10.9</td>\n",
       "      <td>3.4</td>\n",
       "    </tr>\n",
       "    <tr>\n",
       "      <th>4</th>\n",
       "      <td>5.0</td>\n",
       "      <td>North Center</td>\n",
       "      <td>6.0</td>\n",
       "      <td>57123</td>\n",
       "      <td>5.2</td>\n",
       "      <td>4.5</td>\n",
       "      <td>26.2</td>\n",
       "      <td>7.5</td>\n",
       "      <td>0.3</td>\n",
       "    </tr>\n",
       "  </tbody>\n",
       "</table>\n",
       "</div>"
      ],
      "text/plain": [
       "    ca community_area_name  hardship_index  per_capita_income_  \\\n",
       "0  1.0         Rogers Park            39.0               23939   \n",
       "1  2.0          West Ridge            46.0               23040   \n",
       "2  3.0              Uptown            20.0               35787   \n",
       "3  4.0      Lincoln Square            17.0               37524   \n",
       "4  5.0        North Center             6.0               57123   \n",
       "\n",
       "   percent_aged_16_unemployed  percent_aged_25_without_high_school_diploma  \\\n",
       "0                         8.7                                         18.2   \n",
       "1                         8.8                                         20.8   \n",
       "2                         8.9                                         11.8   \n",
       "3                         8.2                                         13.4   \n",
       "4                         5.2                                          4.5   \n",
       "\n",
       "   percent_aged_under_18_or_over_64  percent_households_below_poverty  \\\n",
       "0                              27.5                              23.6   \n",
       "1                              38.5                              17.2   \n",
       "2                              22.2                              24.0   \n",
       "3                              25.5                              10.9   \n",
       "4                              26.2                               7.5   \n",
       "\n",
       "   percent_of_housing_crowded  \n",
       "0                         7.7  \n",
       "1                         7.8  \n",
       "2                         3.8  \n",
       "3                         3.4  \n",
       "4                         0.3  "
      ]
     },
     "execution_count": 2,
     "metadata": {},
     "output_type": "execute_result"
    }
   ],
   "source": [
    "chicagoDF = pd.read_json('https://data.cityofchicago.org/resource/kn9c-c2s2.json')\n",
    "chicagoDF.head()"
   ]
  },
  {
   "cell_type": "markdown",
   "metadata": {},
   "source": [
    "We're calling this file chicagoDF by using the equals sign to define a new variable. We're using the function read_json, and calling it from pd (pandas package). Then, we can put the URL in quotations marks inside the parentheses of pd.read_json(). To check what the first few rows will look like, we can use .head() to print the first 6 rows. We call this after naming the variable we want to investigate. "
   ]
  },
  {
   "cell_type": "markdown",
   "metadata": {},
   "source": [
    "We can also read in files in different formats by using read_csv, read_sql, or others. These files can be called from a server or local disc by using the file path. Let's say I want to load in a CSV from a folder on my hard drive called WWDdata. I import the package \"os\" and use \"getcwd()\" to help me figure out my current working directory if I don't know it already, and use that to write my correct file path and load the file. "
   ]
  },
  {
   "cell_type": "code",
   "execution_count": 3,
   "metadata": {},
   "outputs": [
    {
     "data": {
      "text/plain": [
       "'/Users/evasibinga'"
      ]
     },
     "execution_count": 3,
     "metadata": {},
     "output_type": "execute_result"
    }
   ],
   "source": [
    "import os\n",
    "os.getcwd()"
   ]
  },
  {
   "cell_type": "code",
   "execution_count": 5,
   "metadata": {},
   "outputs": [
    {
     "data": {
      "text/html": [
       "<div>\n",
       "<style scoped>\n",
       "    .dataframe tbody tr th:only-of-type {\n",
       "        vertical-align: middle;\n",
       "    }\n",
       "\n",
       "    .dataframe tbody tr th {\n",
       "        vertical-align: top;\n",
       "    }\n",
       "\n",
       "    .dataframe thead th {\n",
       "        text-align: right;\n",
       "    }\n",
       "</style>\n",
       "<table border=\"1\" class=\"dataframe\">\n",
       "  <thead>\n",
       "    <tr style=\"text-align: right;\">\n",
       "      <th></th>\n",
       "      <th>areaName</th>\n",
       "      <th>Borough</th>\n",
       "      <th>areaType</th>\n",
       "      <th>2010-01</th>\n",
       "      <th>2010-02</th>\n",
       "      <th>2010-03</th>\n",
       "      <th>2010-04</th>\n",
       "      <th>2010-05</th>\n",
       "      <th>2010-06</th>\n",
       "      <th>2010-07</th>\n",
       "      <th>...</th>\n",
       "      <th>2019-04</th>\n",
       "      <th>2019-05</th>\n",
       "      <th>2019-06</th>\n",
       "      <th>2019-07</th>\n",
       "      <th>2019-08</th>\n",
       "      <th>2019-09</th>\n",
       "      <th>2019-10</th>\n",
       "      <th>2019-11</th>\n",
       "      <th>2019-12</th>\n",
       "      <th>2020-01</th>\n",
       "    </tr>\n",
       "  </thead>\n",
       "  <tbody>\n",
       "    <tr>\n",
       "      <th>0</th>\n",
       "      <td>All Downtown</td>\n",
       "      <td>Manhattan</td>\n",
       "      <td>submarket</td>\n",
       "      <td>3200.0</td>\n",
       "      <td>3200.0</td>\n",
       "      <td>3025.0</td>\n",
       "      <td>3100.0</td>\n",
       "      <td>3100.0</td>\n",
       "      <td>3200.0</td>\n",
       "      <td>3195.0</td>\n",
       "      <td>...</td>\n",
       "      <td>3950.0</td>\n",
       "      <td>4000.0</td>\n",
       "      <td>4095.0</td>\n",
       "      <td>4000.0</td>\n",
       "      <td>3995.0</td>\n",
       "      <td>4014.0</td>\n",
       "      <td>4095.0</td>\n",
       "      <td>4099.0</td>\n",
       "      <td>4081.0</td>\n",
       "      <td>4050.0</td>\n",
       "    </tr>\n",
       "    <tr>\n",
       "      <th>1</th>\n",
       "      <td>All Midtown</td>\n",
       "      <td>Manhattan</td>\n",
       "      <td>submarket</td>\n",
       "      <td>2875.0</td>\n",
       "      <td>2800.0</td>\n",
       "      <td>2800.0</td>\n",
       "      <td>2850.0</td>\n",
       "      <td>2895.0</td>\n",
       "      <td>2950.0</td>\n",
       "      <td>3000.0</td>\n",
       "      <td>...</td>\n",
       "      <td>3593.0</td>\n",
       "      <td>3643.0</td>\n",
       "      <td>3695.0</td>\n",
       "      <td>3718.0</td>\n",
       "      <td>3725.0</td>\n",
       "      <td>3711.0</td>\n",
       "      <td>3695.0</td>\n",
       "      <td>3740.0</td>\n",
       "      <td>3750.0</td>\n",
       "      <td>3754.0</td>\n",
       "    </tr>\n",
       "    <tr>\n",
       "      <th>2</th>\n",
       "      <td>All Upper East Side</td>\n",
       "      <td>Manhattan</td>\n",
       "      <td>submarket</td>\n",
       "      <td>2460.0</td>\n",
       "      <td>2450.0</td>\n",
       "      <td>2400.0</td>\n",
       "      <td>2500.0</td>\n",
       "      <td>2550.0</td>\n",
       "      <td>2550.0</td>\n",
       "      <td>2595.0</td>\n",
       "      <td>...</td>\n",
       "      <td>2995.0</td>\n",
       "      <td>3000.0</td>\n",
       "      <td>3050.0</td>\n",
       "      <td>3067.0</td>\n",
       "      <td>2995.0</td>\n",
       "      <td>3000.0</td>\n",
       "      <td>3125.0</td>\n",
       "      <td>3250.0</td>\n",
       "      <td>3348.0</td>\n",
       "      <td>3300.0</td>\n",
       "    </tr>\n",
       "    <tr>\n",
       "      <th>3</th>\n",
       "      <td>All Upper Manhattan</td>\n",
       "      <td>Manhattan</td>\n",
       "      <td>submarket</td>\n",
       "      <td>1836.0</td>\n",
       "      <td>1800.0</td>\n",
       "      <td>1795.0</td>\n",
       "      <td>1800.0</td>\n",
       "      <td>1823.0</td>\n",
       "      <td>1850.0</td>\n",
       "      <td>1875.0</td>\n",
       "      <td>...</td>\n",
       "      <td>2400.0</td>\n",
       "      <td>2450.0</td>\n",
       "      <td>2500.0</td>\n",
       "      <td>2500.0</td>\n",
       "      <td>2495.0</td>\n",
       "      <td>2441.0</td>\n",
       "      <td>2391.0</td>\n",
       "      <td>2350.0</td>\n",
       "      <td>2350.0</td>\n",
       "      <td>2395.0</td>\n",
       "    </tr>\n",
       "    <tr>\n",
       "      <th>4</th>\n",
       "      <td>All Upper West Side</td>\n",
       "      <td>Manhattan</td>\n",
       "      <td>submarket</td>\n",
       "      <td>2895.0</td>\n",
       "      <td>2800.0</td>\n",
       "      <td>2750.0</td>\n",
       "      <td>2800.0</td>\n",
       "      <td>2800.0</td>\n",
       "      <td>2795.0</td>\n",
       "      <td>2800.0</td>\n",
       "      <td>...</td>\n",
       "      <td>3479.0</td>\n",
       "      <td>3495.0</td>\n",
       "      <td>3478.0</td>\n",
       "      <td>3425.0</td>\n",
       "      <td>3539.0</td>\n",
       "      <td>3650.0</td>\n",
       "      <td>3650.0</td>\n",
       "      <td>3695.0</td>\n",
       "      <td>3629.0</td>\n",
       "      <td>3700.0</td>\n",
       "    </tr>\n",
       "  </tbody>\n",
       "</table>\n",
       "<p>5 rows × 124 columns</p>\n",
       "</div>"
      ],
      "text/plain": [
       "              areaName    Borough   areaType  2010-01  2010-02  2010-03  \\\n",
       "0         All Downtown  Manhattan  submarket   3200.0   3200.0   3025.0   \n",
       "1          All Midtown  Manhattan  submarket   2875.0   2800.0   2800.0   \n",
       "2  All Upper East Side  Manhattan  submarket   2460.0   2450.0   2400.0   \n",
       "3  All Upper Manhattan  Manhattan  submarket   1836.0   1800.0   1795.0   \n",
       "4  All Upper West Side  Manhattan  submarket   2895.0   2800.0   2750.0   \n",
       "\n",
       "   2010-04  2010-05  2010-06  2010-07  ...  2019-04  2019-05  2019-06  \\\n",
       "0   3100.0   3100.0   3200.0   3195.0  ...   3950.0   4000.0   4095.0   \n",
       "1   2850.0   2895.0   2950.0   3000.0  ...   3593.0   3643.0   3695.0   \n",
       "2   2500.0   2550.0   2550.0   2595.0  ...   2995.0   3000.0   3050.0   \n",
       "3   1800.0   1823.0   1850.0   1875.0  ...   2400.0   2450.0   2500.0   \n",
       "4   2800.0   2800.0   2795.0   2800.0  ...   3479.0   3495.0   3478.0   \n",
       "\n",
       "   2019-07  2019-08  2019-09  2019-10  2019-11  2019-12  2020-01  \n",
       "0   4000.0   3995.0   4014.0   4095.0   4099.0   4081.0   4050.0  \n",
       "1   3718.0   3725.0   3711.0   3695.0   3740.0   3750.0   3754.0  \n",
       "2   3067.0   2995.0   3000.0   3125.0   3250.0   3348.0   3300.0  \n",
       "3   2500.0   2495.0   2441.0   2391.0   2350.0   2350.0   2395.0  \n",
       "4   3425.0   3539.0   3650.0   3650.0   3695.0   3629.0   3700.0  \n",
       "\n",
       "[5 rows x 124 columns]"
      ]
     },
     "execution_count": 5,
     "metadata": {},
     "output_type": "execute_result"
    }
   ],
   "source": [
    "med_rent_data = pd.read_csv(\"WWDdata/medianAskingRent_All.csv\")\n",
    "med_rent_data.head()"
   ]
  },
  {
   "cell_type": "markdown",
   "metadata": {},
   "source": [
    "Once you've got your data loaded in, you probably need to know if it's in a format you can use. If you want to do quantitative analysis, you'll need to make sure that Python is reading your data points as numbers (either floats--decimals-- or integers). If you want to do textual analysis, you probably need to know that Python is reading your data as strings. We can do this using .dtypes, a function included in the pandas package."
   ]
  },
  {
   "cell_type": "code",
   "execution_count": 11,
   "metadata": {},
   "outputs": [
    {
     "data": {
      "text/plain": [
       "ca                                             float64\n",
       "community_area_name                             object\n",
       "hardship_index                                 float64\n",
       "per_capita_income_                               int64\n",
       "percent_aged_16_unemployed                     float64\n",
       "percent_aged_25_without_high_school_diploma    float64\n",
       "percent_aged_under_18_or_over_64               float64\n",
       "percent_households_below_poverty               float64\n",
       "percent_of_housing_crowded                     float64\n",
       "dtype: object"
      ]
     },
     "execution_count": 11,
     "metadata": {},
     "output_type": "execute_result"
    }
   ],
   "source": [
    "chicagoDF.dtypes"
   ]
  },
  {
   "cell_type": "code",
   "execution_count": 13,
   "metadata": {},
   "outputs": [
    {
     "data": {
      "text/plain": [
       "areaName     object\n",
       "Borough      object\n",
       "areaType     object\n",
       "2010-01     float64\n",
       "2010-02     float64\n",
       "dtype: object"
      ]
     },
     "execution_count": 13,
     "metadata": {},
     "output_type": "execute_result"
    }
   ],
   "source": [
    "med_rent_data.dtypes.head()"
   ]
  },
  {
   "cell_type": "markdown",
   "metadata": {},
   "source": [
    "Notice that the above cell uses .dtypes and .head. How would the result change if .head were not used? Why use .head?"
   ]
  },
  {
   "cell_type": "markdown",
   "metadata": {},
   "source": [
    "To make a DataFrame, we can use pd.DataFrame and select the columns we want to put into this format. We can also leave the column field blank to automatically include all columns in the dataframe. Standard practice is to call the dataframe \"df\" while you're working on it. "
   ]
  },
  {
   "cell_type": "code",
   "execution_count": 27,
   "metadata": {},
   "outputs": [
    {
     "data": {
      "text/html": [
       "<div>\n",
       "<style scoped>\n",
       "    .dataframe tbody tr th:only-of-type {\n",
       "        vertical-align: middle;\n",
       "    }\n",
       "\n",
       "    .dataframe tbody tr th {\n",
       "        vertical-align: top;\n",
       "    }\n",
       "\n",
       "    .dataframe thead th {\n",
       "        text-align: right;\n",
       "    }\n",
       "</style>\n",
       "<table border=\"1\" class=\"dataframe\">\n",
       "  <thead>\n",
       "    <tr style=\"text-align: right;\">\n",
       "      <th></th>\n",
       "      <th>ca</th>\n",
       "      <th>community_area_name</th>\n",
       "      <th>hardship_index</th>\n",
       "      <th>per_capita_income_</th>\n",
       "      <th>percent_aged_16_unemployed</th>\n",
       "      <th>percent_aged_25_without_high_school_diploma</th>\n",
       "      <th>percent_aged_under_18_or_over_64</th>\n",
       "      <th>percent_households_below_poverty</th>\n",
       "      <th>percent_of_housing_crowded</th>\n",
       "    </tr>\n",
       "  </thead>\n",
       "  <tbody>\n",
       "    <tr>\n",
       "      <th>0</th>\n",
       "      <td>1.0</td>\n",
       "      <td>Rogers Park</td>\n",
       "      <td>39.0</td>\n",
       "      <td>23939</td>\n",
       "      <td>8.7</td>\n",
       "      <td>18.2</td>\n",
       "      <td>27.5</td>\n",
       "      <td>23.6</td>\n",
       "      <td>7.7</td>\n",
       "    </tr>\n",
       "    <tr>\n",
       "      <th>1</th>\n",
       "      <td>2.0</td>\n",
       "      <td>West Ridge</td>\n",
       "      <td>46.0</td>\n",
       "      <td>23040</td>\n",
       "      <td>8.8</td>\n",
       "      <td>20.8</td>\n",
       "      <td>38.5</td>\n",
       "      <td>17.2</td>\n",
       "      <td>7.8</td>\n",
       "    </tr>\n",
       "    <tr>\n",
       "      <th>2</th>\n",
       "      <td>3.0</td>\n",
       "      <td>Uptown</td>\n",
       "      <td>20.0</td>\n",
       "      <td>35787</td>\n",
       "      <td>8.9</td>\n",
       "      <td>11.8</td>\n",
       "      <td>22.2</td>\n",
       "      <td>24.0</td>\n",
       "      <td>3.8</td>\n",
       "    </tr>\n",
       "    <tr>\n",
       "      <th>3</th>\n",
       "      <td>4.0</td>\n",
       "      <td>Lincoln Square</td>\n",
       "      <td>17.0</td>\n",
       "      <td>37524</td>\n",
       "      <td>8.2</td>\n",
       "      <td>13.4</td>\n",
       "      <td>25.5</td>\n",
       "      <td>10.9</td>\n",
       "      <td>3.4</td>\n",
       "    </tr>\n",
       "    <tr>\n",
       "      <th>4</th>\n",
       "      <td>5.0</td>\n",
       "      <td>North Center</td>\n",
       "      <td>6.0</td>\n",
       "      <td>57123</td>\n",
       "      <td>5.2</td>\n",
       "      <td>4.5</td>\n",
       "      <td>26.2</td>\n",
       "      <td>7.5</td>\n",
       "      <td>0.3</td>\n",
       "    </tr>\n",
       "  </tbody>\n",
       "</table>\n",
       "</div>"
      ],
      "text/plain": [
       "    ca community_area_name  hardship_index  per_capita_income_  \\\n",
       "0  1.0         Rogers Park            39.0               23939   \n",
       "1  2.0          West Ridge            46.0               23040   \n",
       "2  3.0              Uptown            20.0               35787   \n",
       "3  4.0      Lincoln Square            17.0               37524   \n",
       "4  5.0        North Center             6.0               57123   \n",
       "\n",
       "   percent_aged_16_unemployed  percent_aged_25_without_high_school_diploma  \\\n",
       "0                         8.7                                         18.2   \n",
       "1                         8.8                                         20.8   \n",
       "2                         8.9                                         11.8   \n",
       "3                         8.2                                         13.4   \n",
       "4                         5.2                                          4.5   \n",
       "\n",
       "   percent_aged_under_18_or_over_64  percent_households_below_poverty  \\\n",
       "0                              27.5                              23.6   \n",
       "1                              38.5                              17.2   \n",
       "2                              22.2                              24.0   \n",
       "3                              25.5                              10.9   \n",
       "4                              26.2                               7.5   \n",
       "\n",
       "   percent_of_housing_crowded  \n",
       "0                         7.7  \n",
       "1                         7.8  \n",
       "2                         3.8  \n",
       "3                         3.4  \n",
       "4                         0.3  "
      ]
     },
     "execution_count": 27,
     "metadata": {},
     "output_type": "execute_result"
    }
   ],
   "source": [
    "df = pd.DataFrame(chicagoDF, columns = ['ca', 'community_area_name', 'hardship_index', 'per_capita_income_'])\n",
    "df1 = pd.DataFrame(chicagoDF)\n",
    "\n",
    "df.head()\n",
    "df1.head()"
   ]
  },
  {
   "cell_type": "markdown",
   "metadata": {},
   "source": [
    "Now that we've got a dataframe, we'll want to verify that the data actually shows something we want to study/ can be used for study. We can start with describe(), which will return mean, median, min/max, and standard deviation information about the whole dataframe (or just one column at a time)."
   ]
  },
  {
   "cell_type": "markdown",
   "metadata": {},
   "source": [
    "Using describe() may provide some useful insights and help to verify that there are not large swathes of null or zero values, or outliers. "
   ]
  },
  {
   "cell_type": "code",
   "execution_count": 28,
   "metadata": {},
   "outputs": [
    {
     "data": {
      "text/html": [
       "<div>\n",
       "<style scoped>\n",
       "    .dataframe tbody tr th:only-of-type {\n",
       "        vertical-align: middle;\n",
       "    }\n",
       "\n",
       "    .dataframe tbody tr th {\n",
       "        vertical-align: top;\n",
       "    }\n",
       "\n",
       "    .dataframe thead th {\n",
       "        text-align: right;\n",
       "    }\n",
       "</style>\n",
       "<table border=\"1\" class=\"dataframe\">\n",
       "  <thead>\n",
       "    <tr style=\"text-align: right;\">\n",
       "      <th></th>\n",
       "      <th>ca</th>\n",
       "      <th>hardship_index</th>\n",
       "      <th>per_capita_income_</th>\n",
       "      <th>percent_aged_16_unemployed</th>\n",
       "      <th>percent_aged_25_without_high_school_diploma</th>\n",
       "      <th>percent_aged_under_18_or_over_64</th>\n",
       "      <th>percent_households_below_poverty</th>\n",
       "      <th>percent_of_housing_crowded</th>\n",
       "    </tr>\n",
       "  </thead>\n",
       "  <tbody>\n",
       "    <tr>\n",
       "      <th>count</th>\n",
       "      <td>77.000000</td>\n",
       "      <td>77.000000</td>\n",
       "      <td>78.000000</td>\n",
       "      <td>78.000000</td>\n",
       "      <td>78.000000</td>\n",
       "      <td>78.000000</td>\n",
       "      <td>78.000000</td>\n",
       "      <td>78.000000</td>\n",
       "    </tr>\n",
       "    <tr>\n",
       "      <th>mean</th>\n",
       "      <td>39.000000</td>\n",
       "      <td>49.506494</td>\n",
       "      <td>25597.000000</td>\n",
       "      <td>15.341026</td>\n",
       "      <td>20.330769</td>\n",
       "      <td>35.717949</td>\n",
       "      <td>21.739744</td>\n",
       "      <td>4.920513</td>\n",
       "    </tr>\n",
       "    <tr>\n",
       "      <th>std</th>\n",
       "      <td>22.371857</td>\n",
       "      <td>28.690556</td>\n",
       "      <td>15196.405541</td>\n",
       "      <td>7.499497</td>\n",
       "      <td>11.746514</td>\n",
       "      <td>7.284421</td>\n",
       "      <td>11.457231</td>\n",
       "      <td>3.658981</td>\n",
       "    </tr>\n",
       "    <tr>\n",
       "      <th>min</th>\n",
       "      <td>1.000000</td>\n",
       "      <td>1.000000</td>\n",
       "      <td>8201.000000</td>\n",
       "      <td>4.700000</td>\n",
       "      <td>2.500000</td>\n",
       "      <td>13.500000</td>\n",
       "      <td>3.300000</td>\n",
       "      <td>0.300000</td>\n",
       "    </tr>\n",
       "    <tr>\n",
       "      <th>25%</th>\n",
       "      <td>20.000000</td>\n",
       "      <td>25.000000</td>\n",
       "      <td>15804.750000</td>\n",
       "      <td>9.200000</td>\n",
       "      <td>12.075000</td>\n",
       "      <td>32.150000</td>\n",
       "      <td>13.350000</td>\n",
       "      <td>2.325000</td>\n",
       "    </tr>\n",
       "    <tr>\n",
       "      <th>50%</th>\n",
       "      <td>39.000000</td>\n",
       "      <td>50.000000</td>\n",
       "      <td>21668.500000</td>\n",
       "      <td>13.850000</td>\n",
       "      <td>18.650000</td>\n",
       "      <td>38.050000</td>\n",
       "      <td>19.050000</td>\n",
       "      <td>3.850000</td>\n",
       "    </tr>\n",
       "    <tr>\n",
       "      <th>75%</th>\n",
       "      <td>58.000000</td>\n",
       "      <td>74.000000</td>\n",
       "      <td>28715.750000</td>\n",
       "      <td>20.000000</td>\n",
       "      <td>26.600000</td>\n",
       "      <td>40.500000</td>\n",
       "      <td>29.150000</td>\n",
       "      <td>6.800000</td>\n",
       "    </tr>\n",
       "    <tr>\n",
       "      <th>max</th>\n",
       "      <td>77.000000</td>\n",
       "      <td>98.000000</td>\n",
       "      <td>88669.000000</td>\n",
       "      <td>35.900000</td>\n",
       "      <td>54.800000</td>\n",
       "      <td>51.500000</td>\n",
       "      <td>56.500000</td>\n",
       "      <td>15.800000</td>\n",
       "    </tr>\n",
       "  </tbody>\n",
       "</table>\n",
       "</div>"
      ],
      "text/plain": [
       "              ca  hardship_index  per_capita_income_  \\\n",
       "count  77.000000       77.000000           78.000000   \n",
       "mean   39.000000       49.506494        25597.000000   \n",
       "std    22.371857       28.690556        15196.405541   \n",
       "min     1.000000        1.000000         8201.000000   \n",
       "25%    20.000000       25.000000        15804.750000   \n",
       "50%    39.000000       50.000000        21668.500000   \n",
       "75%    58.000000       74.000000        28715.750000   \n",
       "max    77.000000       98.000000        88669.000000   \n",
       "\n",
       "       percent_aged_16_unemployed  \\\n",
       "count                   78.000000   \n",
       "mean                    15.341026   \n",
       "std                      7.499497   \n",
       "min                      4.700000   \n",
       "25%                      9.200000   \n",
       "50%                     13.850000   \n",
       "75%                     20.000000   \n",
       "max                     35.900000   \n",
       "\n",
       "       percent_aged_25_without_high_school_diploma  \\\n",
       "count                                    78.000000   \n",
       "mean                                     20.330769   \n",
       "std                                      11.746514   \n",
       "min                                       2.500000   \n",
       "25%                                      12.075000   \n",
       "50%                                      18.650000   \n",
       "75%                                      26.600000   \n",
       "max                                      54.800000   \n",
       "\n",
       "       percent_aged_under_18_or_over_64  percent_households_below_poverty  \\\n",
       "count                         78.000000                         78.000000   \n",
       "mean                          35.717949                         21.739744   \n",
       "std                            7.284421                         11.457231   \n",
       "min                           13.500000                          3.300000   \n",
       "25%                           32.150000                         13.350000   \n",
       "50%                           38.050000                         19.050000   \n",
       "75%                           40.500000                         29.150000   \n",
       "max                           51.500000                         56.500000   \n",
       "\n",
       "       percent_of_housing_crowded  \n",
       "count                   78.000000  \n",
       "mean                     4.920513  \n",
       "std                      3.658981  \n",
       "min                      0.300000  \n",
       "25%                      2.325000  \n",
       "50%                      3.850000  \n",
       "75%                      6.800000  \n",
       "max                     15.800000  "
      ]
     },
     "execution_count": 28,
     "metadata": {},
     "output_type": "execute_result"
    }
   ],
   "source": [
    "df1.describe()"
   ]
  },
  {
   "cell_type": "markdown",
   "metadata": {},
   "source": [
    "Finally, we can use our loaded, typed, dataframe-d, verified data to start generating some insights. Exploratory models and visualization plots are an efficient way to do this, and adding the visual layer helps the insights to be presented in an intuitive or understandable manner. "
   ]
  },
  {
   "cell_type": "markdown",
   "metadata": {},
   "source": [
    "For a more sophisticated analysis than describe() can offer, and to help understand how different aspects of the data affect each other, an Ordinary Least Squares model is helpful. We'll set X and Y variables (independent and dependent variables) and use the OLS function from the statsmodel.api package we loaded as \"sm\" to make an OLS model. "
   ]
  },
  {
   "cell_type": "code",
   "execution_count": 33,
   "metadata": {
    "scrolled": true
   },
   "outputs": [
    {
     "name": "stdout",
     "output_type": "stream",
     "text": [
      "                            OLS Regression Results                            \n",
      "==============================================================================\n",
      "Dep. Variable:     per_capita_income_   R-squared:                       0.730\n",
      "Model:                            OLS   Adj. R-squared:                  0.715\n",
      "Method:                 Least Squares   F-statistic:                     48.68\n",
      "Date:                Tue, 24 Mar 2020   Prob (F-statistic):           9.16e-20\n",
      "Time:                        14:25:34   Log-Likelihood:                -800.25\n",
      "No. Observations:                  77   AIC:                             1610.\n",
      "Df Residuals:                      72   BIC:                             1622.\n",
      "Df Model:                           4                                         \n",
      "Covariance Type:            nonrobust                                         \n",
      "===============================================================================================================\n",
      "                                                  coef    std err          t      P>|t|      [0.025      0.975]\n",
      "---------------------------------------------------------------------------------------------------------------\n",
      "const                                        4.806e+04   3044.740     15.784      0.000     4.2e+04    5.41e+04\n",
      "hardship_index                               -438.6842    136.778     -3.207      0.002    -711.346    -166.022\n",
      "percent_aged_25_without_high_school_diploma  -292.9155    237.372     -1.234      0.221    -766.108     180.277\n",
      "percent_aged_16_unemployed                     92.7350    344.923      0.269      0.789    -594.856     780.326\n",
      "percent_of_housing_crowded                    762.7735    579.960      1.315      0.193    -393.355    1918.902\n",
      "==============================================================================\n",
      "Omnibus:                       55.407   Durbin-Watson:                   0.939\n",
      "Prob(Omnibus):                  0.000   Jarque-Bera (JB):              243.741\n",
      "Skew:                           2.233   Prob(JB):                     1.18e-53\n",
      "Kurtosis:                      10.485   Cond. No.                         210.\n",
      "==============================================================================\n",
      "\n",
      "Warnings:\n",
      "[1] Standard Errors assume that the covariance matrix of the errors is correctly specified.\n"
     ]
    }
   ],
   "source": [
    "Y = df1['per_capita_income_']\n",
    "X = df1[['hardship_index', 'percent_aged_25_without_high_school_diploma', 'percent_aged_16_unemployed', 'percent_of_housing_crowded']]\n",
    "X = sm.add_constant(X)\n",
    "model0 = sm.OLS(Y, X, missing='drop').fit()\n",
    "print(model0.summary())"
   ]
  },
  {
   "cell_type": "markdown",
   "metadata": {},
   "source": [
    "We can examine the R-squared value to see how much of the variance in the dependent variable can be explained by variance in the independent variables. For an unsurprising result, consider that 73% of variation in hardship index, percent of people aged 25 without a high school diploma, percent of unemployed 16 year olds, or percent of people in crowded housing can be explained by changes in per capita income. "
   ]
  },
  {
   "cell_type": "markdown",
   "metadata": {},
   "source": [
    "Given the strong correlation between per capita income and people aged 25 who lack a high school diploma, let's visualize that to see if the graph reveals insights that a single number does not. We will expect a strong downward trend, given that, according to the coefficients in the OLS model, a one point increase in the percent of people without a high school diploma corresponds to a 293 percent decrease in per capita income."
   ]
  },
  {
   "cell_type": "code",
   "execution_count": 44,
   "metadata": {
    "scrolled": true
   },
   "outputs": [
    {
     "data": {
      "image/png": "[encoded data removed]",
      "text/plain": [
       "<Figure size 432x288 with 1 Axes>"
      ]
     },
     "metadata": {
      "needs_background": "light"
     },
     "output_type": "display_data"
    }
   ],
   "source": [
    "x1 = chicagoDF['percent_aged_25_without_high_school_diploma']\n",
    "y1 = chicagoDF['per_capita_income_']\n",
    "plt.plot(x1,y1, 'o', color='black')\n",
    "plt.xlabel(\"Percent without HS diploma\")\n",
    "plt.ylabel(\"Per capita Income\");"
   ]
  },
  {
   "cell_type": "markdown",
   "metadata": {},
   "source": [
    "The visualization reveals that the relationship between these variables is not linear -- rather than a constant change of -293/1, the decrease in HS diploma recipients falls more steeply from maximum PC income until around 30,000 dollars, and then tapers off at a shallower slope after that point. This raises more questions. Perhaps income is the most important predictor for adults aged 25 having or not having a high school diploma, *if* they make 30,000 dollars or more per year, but other factors may become better predictors for high school diploma possession below that value. "
   ]
  }
 ],
 "metadata": {
  "kernelspec": {
   "display_name": "Python 3",
   "language": "python",
   "name": "python3"
  },
  "language_info": {
   "codemirror_mode": {
    "name": "ipython",
    "version": 3
   },
   "file_extension": ".py",
   "mimetype": "text/x-python",
   "name": "python",
   "nbconvert_exporter": "python",
   "pygments_lexer": "ipython3",
   "version": "3.7.3"
  }
 },
 "nbformat": 4,
 "nbformat_minor": 2
}
