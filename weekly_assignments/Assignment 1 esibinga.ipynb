{
 "cells": [
  {
   "cell_type": "markdown",
   "metadata": {},
   "source": [
    "Eva Sibinga\n",
    "Working With Data - Assignment 1\n",
    "Professor Timothy Shortell\n",
    "February 24, 2020\n",
    "\n",
    "Project: Monthly Rents - NYC"
   ]
  },
  {
   "cell_type": "markdown",
   "metadata": {},
   "source": [
    "1. I will use data on median monthly rents in New York City. The dataset is taken from the real estate site StreetEasy.com and contains monthly median rent figures for each neighborhood listed on the StreetEasy site since 2010. One obvious question is “how have neighborhood monthly rents changed over the last decade?” I also wonder where and when the fastest rates of change have occurred, and if neighborhoods tend to follow similar general patterns or if rental prices respond to different factors depending on the neighborhood. "
   ]
  },
  {
   "cell_type": "markdown",
   "metadata": {},
   "source": [
    "2. Gentrification is obviously a major concern for many New Yorkers, and for city dwellers around the world. I hope that a monthly breakdown will offer some more granular information for the process of gentrification. Where and when do rent price increases happen fastest? Can we link them to other co-occurrent factors, such as changes in infrastructure or job markets?"
   ]
  },
  {
   "cell_type": "markdown",
   "metadata": {},
   "source": [
    "3. In terms of independent and dependent variables, my question is: What is the effect of infrastructural or economic change on neighborhood rent prices? My dependent variable is rent prices, which is the dataset I currently have. (As an extension of my current dataset, I’m also curious to make and use rate-of-change data, not just the quantity each month.) Independent variables that I’d like to use with this data include the following: the number of jobs in NYC boroughs per month during the same 2010-2020 period; proposed, completed, or in-progress changes to NYC transportation infrastructure (including subway, CitiBike, bus, and congestion pricing); and, potentially, zoning or rent control laws that might impact neighborhood rent prices."
   ]
  },
  {
   "cell_type": "markdown",
   "metadata": {},
   "source": [
    "4. Job data is available through the NYS Department of Labor: https://www.labor.ny.gov/stats/nyc/ \n",
    "\n",
    "Transportation data is available through NYC Open Data and Citibike:\n",
    "http://web.mta.info/developers/turnstile.html (this shows use of each station-- would love to learn how to scrape and aggregate some of this data if it's not too much)\n",
    "https://www.citibikenyc.com/system-data \n",
    "https://www1.nyc.gov/html/dot/html/bicyclists/bike-counts.shtml \n",
    "\n",
    "Zoning and rent control are a more qualitative measure that I will research here: \n",
    "https://rentguidelinesboard.cityofnewyork.us/resources/faqs/rent-control/"
   ]
  },
  {
   "cell_type": "markdown",
   "metadata": {},
   "source": [
    "5. I don't anticipate many data quality issues with the NYC data, since NYC Open Data tends to be robust and complete, and I'm not going for anything obscure here. I'm more concerned about fitting my additional/covariate data with my original dataset, but am hoping this will be generally simple using month/year data. It may require reformatting dates or aggregating daily/weekly data as needed. The data I have from StreetEasy is probably less complete than most of the other data I have, but as referenced earlier, this \"in-progress\" nature of the SE data poses an interesting research question in and of itself. "
   ]
  },
  {
   "cell_type": "markdown",
   "metadata": {},
   "source": [
    "6. My data file is a .csv, which I can read into Python using pandas and read_csv(“/filepath/medianAskingRent_All.csv”)"
   ]
  },
  {
   "cell_type": "code",
   "execution_count": 4,
   "metadata": {},
   "outputs": [],
   "source": [
    "import pandas as pd"
   ]
  },
  {
   "cell_type": "code",
   "execution_count": 7,
   "metadata": {},
   "outputs": [
    {
     "data": {
      "text/plain": [
       "'/Users/evasibinga'"
      ]
     },
     "execution_count": 7,
     "metadata": {},
     "output_type": "execute_result"
    }
   ],
   "source": [
    "import os\n",
    "os.getcwd()"
   ]
  },
  {
   "cell_type": "code",
   "execution_count": 9,
   "metadata": {},
   "outputs": [],
   "source": [
    "med_rent_data = pd.read_csv(\"WWDdata/medianAskingRent_All.csv\")"
   ]
  },
  {
   "cell_type": "code",
   "execution_count": 11,
   "metadata": {},
   "outputs": [
    {
     "data": {
      "text/html": [
       "<div>\n",
       "<style scoped>\n",
       "    .dataframe tbody tr th:only-of-type {\n",
       "        vertical-align: middle;\n",
       "    }\n",
       "\n",
       "    .dataframe tbody tr th {\n",
       "        vertical-align: top;\n",
       "    }\n",
       "\n",
       "    .dataframe thead th {\n",
       "        text-align: right;\n",
       "    }\n",
       "</style>\n",
       "<table border=\"1\" class=\"dataframe\">\n",
       "  <thead>\n",
       "    <tr style=\"text-align: right;\">\n",
       "      <th></th>\n",
       "      <th>areaName</th>\n",
       "      <th>Borough</th>\n",
       "      <th>areaType</th>\n",
       "      <th>2010-01</th>\n",
       "      <th>2010-02</th>\n",
       "      <th>2010-03</th>\n",
       "      <th>2010-04</th>\n",
       "      <th>2010-05</th>\n",
       "      <th>2010-06</th>\n",
       "      <th>2010-07</th>\n",
       "      <th>...</th>\n",
       "      <th>2019-04</th>\n",
       "      <th>2019-05</th>\n",
       "      <th>2019-06</th>\n",
       "      <th>2019-07</th>\n",
       "      <th>2019-08</th>\n",
       "      <th>2019-09</th>\n",
       "      <th>2019-10</th>\n",
       "      <th>2019-11</th>\n",
       "      <th>2019-12</th>\n",
       "      <th>2020-01</th>\n",
       "    </tr>\n",
       "  </thead>\n",
       "  <tbody>\n",
       "    <tr>\n",
       "      <th>0</th>\n",
       "      <td>All Downtown</td>\n",
       "      <td>Manhattan</td>\n",
       "      <td>submarket</td>\n",
       "      <td>3200.0</td>\n",
       "      <td>3200.0</td>\n",
       "      <td>3025.0</td>\n",
       "      <td>3100.0</td>\n",
       "      <td>3100.0</td>\n",
       "      <td>3200.0</td>\n",
       "      <td>3195.0</td>\n",
       "      <td>...</td>\n",
       "      <td>3950.0</td>\n",
       "      <td>4000.0</td>\n",
       "      <td>4095.0</td>\n",
       "      <td>4000.0</td>\n",
       "      <td>3995.0</td>\n",
       "      <td>4014.0</td>\n",
       "      <td>4095.0</td>\n",
       "      <td>4099.0</td>\n",
       "      <td>4081.0</td>\n",
       "      <td>4050.0</td>\n",
       "    </tr>\n",
       "    <tr>\n",
       "      <th>1</th>\n",
       "      <td>All Midtown</td>\n",
       "      <td>Manhattan</td>\n",
       "      <td>submarket</td>\n",
       "      <td>2875.0</td>\n",
       "      <td>2800.0</td>\n",
       "      <td>2800.0</td>\n",
       "      <td>2850.0</td>\n",
       "      <td>2895.0</td>\n",
       "      <td>2950.0</td>\n",
       "      <td>3000.0</td>\n",
       "      <td>...</td>\n",
       "      <td>3593.0</td>\n",
       "      <td>3643.0</td>\n",
       "      <td>3695.0</td>\n",
       "      <td>3718.0</td>\n",
       "      <td>3725.0</td>\n",
       "      <td>3711.0</td>\n",
       "      <td>3695.0</td>\n",
       "      <td>3740.0</td>\n",
       "      <td>3750.0</td>\n",
       "      <td>3754.0</td>\n",
       "    </tr>\n",
       "    <tr>\n",
       "      <th>2</th>\n",
       "      <td>All Upper East Side</td>\n",
       "      <td>Manhattan</td>\n",
       "      <td>submarket</td>\n",
       "      <td>2460.0</td>\n",
       "      <td>2450.0</td>\n",
       "      <td>2400.0</td>\n",
       "      <td>2500.0</td>\n",
       "      <td>2550.0</td>\n",
       "      <td>2550.0</td>\n",
       "      <td>2595.0</td>\n",
       "      <td>...</td>\n",
       "      <td>2995.0</td>\n",
       "      <td>3000.0</td>\n",
       "      <td>3050.0</td>\n",
       "      <td>3067.0</td>\n",
       "      <td>2995.0</td>\n",
       "      <td>3000.0</td>\n",
       "      <td>3125.0</td>\n",
       "      <td>3250.0</td>\n",
       "      <td>3348.0</td>\n",
       "      <td>3300.0</td>\n",
       "    </tr>\n",
       "    <tr>\n",
       "      <th>3</th>\n",
       "      <td>All Upper Manhattan</td>\n",
       "      <td>Manhattan</td>\n",
       "      <td>submarket</td>\n",
       "      <td>1836.0</td>\n",
       "      <td>1800.0</td>\n",
       "      <td>1795.0</td>\n",
       "      <td>1800.0</td>\n",
       "      <td>1823.0</td>\n",
       "      <td>1850.0</td>\n",
       "      <td>1875.0</td>\n",
       "      <td>...</td>\n",
       "      <td>2400.0</td>\n",
       "      <td>2450.0</td>\n",
       "      <td>2500.0</td>\n",
       "      <td>2500.0</td>\n",
       "      <td>2495.0</td>\n",
       "      <td>2441.0</td>\n",
       "      <td>2391.0</td>\n",
       "      <td>2350.0</td>\n",
       "      <td>2350.0</td>\n",
       "      <td>2395.0</td>\n",
       "    </tr>\n",
       "    <tr>\n",
       "      <th>4</th>\n",
       "      <td>All Upper West Side</td>\n",
       "      <td>Manhattan</td>\n",
       "      <td>submarket</td>\n",
       "      <td>2895.0</td>\n",
       "      <td>2800.0</td>\n",
       "      <td>2750.0</td>\n",
       "      <td>2800.0</td>\n",
       "      <td>2800.0</td>\n",
       "      <td>2795.0</td>\n",
       "      <td>2800.0</td>\n",
       "      <td>...</td>\n",
       "      <td>3479.0</td>\n",
       "      <td>3495.0</td>\n",
       "      <td>3478.0</td>\n",
       "      <td>3425.0</td>\n",
       "      <td>3539.0</td>\n",
       "      <td>3650.0</td>\n",
       "      <td>3650.0</td>\n",
       "      <td>3695.0</td>\n",
       "      <td>3629.0</td>\n",
       "      <td>3700.0</td>\n",
       "    </tr>\n",
       "  </tbody>\n",
       "</table>\n",
       "<p>5 rows × 124 columns</p>\n",
       "</div>"
      ],
      "text/plain": [
       "              areaName    Borough   areaType  2010-01  2010-02  2010-03  \\\n",
       "0         All Downtown  Manhattan  submarket   3200.0   3200.0   3025.0   \n",
       "1          All Midtown  Manhattan  submarket   2875.0   2800.0   2800.0   \n",
       "2  All Upper East Side  Manhattan  submarket   2460.0   2450.0   2400.0   \n",
       "3  All Upper Manhattan  Manhattan  submarket   1836.0   1800.0   1795.0   \n",
       "4  All Upper West Side  Manhattan  submarket   2895.0   2800.0   2750.0   \n",
       "\n",
       "   2010-04  2010-05  2010-06  2010-07  ...  2019-04  2019-05  2019-06  \\\n",
       "0   3100.0   3100.0   3200.0   3195.0  ...   3950.0   4000.0   4095.0   \n",
       "1   2850.0   2895.0   2950.0   3000.0  ...   3593.0   3643.0   3695.0   \n",
       "2   2500.0   2550.0   2550.0   2595.0  ...   2995.0   3000.0   3050.0   \n",
       "3   1800.0   1823.0   1850.0   1875.0  ...   2400.0   2450.0   2500.0   \n",
       "4   2800.0   2800.0   2795.0   2800.0  ...   3479.0   3495.0   3478.0   \n",
       "\n",
       "   2019-07  2019-08  2019-09  2019-10  2019-11  2019-12  2020-01  \n",
       "0   4000.0   3995.0   4014.0   4095.0   4099.0   4081.0   4050.0  \n",
       "1   3718.0   3725.0   3711.0   3695.0   3740.0   3750.0   3754.0  \n",
       "2   3067.0   2995.0   3000.0   3125.0   3250.0   3348.0   3300.0  \n",
       "3   2500.0   2495.0   2441.0   2391.0   2350.0   2350.0   2395.0  \n",
       "4   3425.0   3539.0   3650.0   3650.0   3695.0   3629.0   3700.0  \n",
       "\n",
       "[5 rows x 124 columns]"
      ]
     },
     "execution_count": 11,
     "metadata": {},
     "output_type": "execute_result"
    }
   ],
   "source": [
    "med_rent_data.head()"
   ]
  }
 ],
 "metadata": {
  "kernelspec": {
   "display_name": "Python 3",
   "language": "python",
   "name": "python3"
  },
  "language_info": {
   "codemirror_mode": {
    "name": "ipython",
    "version": 3
   },
   "file_extension": ".py",
   "mimetype": "text/x-python",
   "name": "python",
   "nbconvert_exporter": "python",
   "pygments_lexer": "ipython3",
   "version": "3.7.3"
  }
 },
 "nbformat": 4,
 "nbformat_minor": 2
}
