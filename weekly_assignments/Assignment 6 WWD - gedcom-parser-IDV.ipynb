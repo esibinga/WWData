{
 "cells": [
  {
   "cell_type": "markdown",
   "metadata": {},
   "source": [
    "Eva Sibinga\n",
    "Assignment 6 - Open assignment "
   ]
  },
  {
   "cell_type": "markdown",
   "metadata": {},
   "source": [
    "My goal here is to create a csv from genealogical data I have in a GEDCOM file -- that's the format available from Ancestry.com. It requires proprietary software to read and won't work with d3.js, so I need to get this data into another file format. Ideally I'd like the data to be a JSON file so that I can use it for hierarchical data viz, but I've had trouble converting directly from GEDCOM to JSON. This notebook will instead convert from GEDCOM to CSV using a GEDCOM parse package and pandas. As long as I have \"parent\" and \"child\" fields, I can use d3 packages to visualize hierarchical data."
   ]
  },
  {
   "cell_type": "code",
   "execution_count": 27,
   "metadata": {},
   "outputs": [
    {
     "name": "stdout",
     "output_type": "stream",
     "text": [
      "Requirement already satisfied: python-gedcom in /Users/evasibinga/opt/anaconda3/lib/python3.8/site-packages (1.0.0)\n",
      "Note: you may need to restart the kernel to use updated packages.\n"
     ]
    }
   ],
   "source": [
    "pip install python-gedcom"
   ]
  },
  {
   "cell_type": "code",
   "execution_count": 5,
   "metadata": {},
   "outputs": [],
   "source": [
    "#install gedcom packages\n",
    "from gedcom.element.individual import IndividualElement\n",
    "from gedcom.parser import Parser"
   ]
  },
  {
   "cell_type": "code",
   "execution_count": 6,
   "metadata": {},
   "outputs": [
    {
     "data": {
      "text/plain": [
       "'/Users/evasibinga'"
      ]
     },
     "execution_count": 6,
     "metadata": {},
     "output_type": "execute_result"
    }
   ],
   "source": [
    "# check my working directory, change if needed\n",
    "import os\n",
    "os.getcwd()"
   ]
  },
  {
   "cell_type": "code",
   "execution_count": 7,
   "metadata": {},
   "outputs": [],
   "source": [
    "os.chdir('./IDV-exploratory-viz/')"
   ]
  },
  {
   "cell_type": "code",
   "execution_count": 8,
   "metadata": {},
   "outputs": [],
   "source": [
    "#install dataframe packages needed\n",
    "import pandas as pd"
   ]
  },
  {
   "cell_type": "code",
   "execution_count": 9,
   "metadata": {},
   "outputs": [
    {
     "data": {
      "text/plain": [
       "'/Users/evasibinga/IDV-exploratory-viz'"
      ]
     },
     "execution_count": 9,
     "metadata": {},
     "output_type": "execute_result"
    }
   ],
   "source": [
    "# we're in the right directory so ready to get started\n",
    "os.getcwd()"
   ]
  },
  {
   "cell_type": "code",
   "execution_count": 28,
   "metadata": {},
   "outputs": [],
   "source": [
    "# create empty dataframe \n",
    "## I didn't end up using this but it was a helpful starting place to envision the columns I do and don't need\n",
    "\n",
    "# col_names = ['INDI', 'first', 'last', 'full_name', 'family', 'sex', 'DOB', 'DOD', 'birthplace', 'deathplace', 'generation', 'level', 'parent_id' ]\n",
    "# my_df = pd.DataFrame(columns=col_names)"
   ]
  },
  {
   "cell_type": "code",
   "execution_count": 11,
   "metadata": {},
   "outputs": [
    {
     "data": {
      "text/html": [
       "<div>\n",
       "<style scoped>\n",
       "    .dataframe tbody tr th:only-of-type {\n",
       "        vertical-align: middle;\n",
       "    }\n",
       "\n",
       "    .dataframe tbody tr th {\n",
       "        vertical-align: top;\n",
       "    }\n",
       "\n",
       "    .dataframe thead th {\n",
       "        text-align: right;\n",
       "    }\n",
       "</style>\n",
       "<table border=\"1\" class=\"dataframe\">\n",
       "  <thead>\n",
       "    <tr style=\"text-align: right;\">\n",
       "      <th></th>\n",
       "      <th>INDI</th>\n",
       "      <th>first</th>\n",
       "      <th>last</th>\n",
       "      <th>full_name</th>\n",
       "      <th>family</th>\n",
       "      <th>sex</th>\n",
       "      <th>DOB</th>\n",
       "      <th>DOD</th>\n",
       "      <th>birthplace</th>\n",
       "      <th>deathplace</th>\n",
       "      <th>generation</th>\n",
       "      <th>level</th>\n",
       "      <th>parent_id</th>\n",
       "    </tr>\n",
       "  </thead>\n",
       "  <tbody>\n",
       "  </tbody>\n",
       "</table>\n",
       "</div>"
      ],
      "text/plain": [
       "Empty DataFrame\n",
       "Columns: [INDI, first, last, full_name, family, sex, DOB, DOD, birthplace, deathplace, generation, level, parent_id]\n",
       "Index: []"
      ]
     },
     "execution_count": 11,
     "metadata": {},
     "output_type": "execute_result"
    }
   ],
   "source": [
    "# my_df"
   ]
  },
  {
   "cell_type": "code",
   "execution_count": 10,
   "metadata": {},
   "outputs": [],
   "source": [
    "#file path to my gedcom file\n",
    "file_path = 'data/JGB_MHB.ged'"
   ]
  },
  {
   "cell_type": "code",
   "execution_count": 11,
   "metadata": {},
   "outputs": [],
   "source": [
    "#initialize gedcom parser\n",
    "gedcom_parser = Parser()"
   ]
  },
  {
   "cell_type": "code",
   "execution_count": 12,
   "metadata": {},
   "outputs": [],
   "source": [
    "gedcom_parser.parse_file(file_path)"
   ]
  },
  {
   "cell_type": "code",
   "execution_count": 13,
   "metadata": {},
   "outputs": [],
   "source": [
    "root_child_elements = gedcom_parser.get_root_child_elements()"
   ]
  },
  {
   "cell_type": "code",
   "execution_count": 29,
   "metadata": {},
   "outputs": [
    {
     "data": {
      "text/plain": [
       "list"
      ]
     },
     "execution_count": 29,
     "metadata": {},
     "output_type": "execute_result"
    }
   ],
   "source": [
    "# check out the data generated by an unfamiliar package / parser\n",
    "type(root_child_elements)"
   ]
  },
  {
   "cell_type": "code",
   "execution_count": 25,
   "metadata": {},
   "outputs": [
    {
     "data": {
      "text/plain": [
       "[<gedcom.element.element.Element at 0x7fbc216ea3a0>,\n",
       " <gedcom.element.individual.IndividualElement at 0x7fbc22c92c40>,\n",
       " <gedcom.element.individual.IndividualElement at 0x7fbc22cb6fa0>,\n",
       " <gedcom.element.individual.IndividualElement at 0x7fbc22cc8e20>,\n",
       " <gedcom.element.individual.IndividualElement at 0x7fbc22cd1f70>]"
      ]
     },
     "execution_count": 25,
     "metadata": {},
     "output_type": "execute_result"
    }
   ],
   "source": [
    "root_child_elements[0:5]"
   ]
  },
  {
   "cell_type": "code",
   "execution_count": 16,
   "metadata": {},
   "outputs": [
    {
     "data": {
      "text/plain": [
       "gedcom.element.individual.IndividualElement"
      ]
     },
     "execution_count": 16,
     "metadata": {},
     "output_type": "execute_result"
    }
   ],
   "source": [
    "# the parser keeps gedcom-specific data types\n",
    "type(root_child_elements[1])"
   ]
  },
  {
   "cell_type": "code",
   "execution_count": 30,
   "metadata": {},
   "outputs": [],
   "source": [
    "# make an empty list to collect data\n",
    "data = []\n",
    "# iterate through all root child elements (i.e. everyone in the family tree)\n",
    "for element in root_child_elements:\n",
    "\n",
    "    # Is the `element` an actual `IndividualElement`? (Allows usage of extra functions such as `surname_match` and `get_name`.)\n",
    "    if isinstance(element, IndividualElement):\n",
    "        if element.is_individual:\n",
    "            # define the fields I want in my final CSV\n",
    "            INDI = element.get_pointer() # INDI is a unique ID for each individual on the tree (helpful for repeat names)\n",
    "            (first, last) = element.get_name()\n",
    "            sex = element.get_gender()\n",
    "            DOB = element.get_birth_data()  ## this includes source info and full date, so below I just access the first item in list for birthdate\n",
    "            DOD = element.get_death_data()  ## ditto\n",
    "            parents = gedcom_parser.get_parents(element)\n",
    "            for element in parents:    # this is extremely heteronormative, but the most obvious way to split parents into 2 elements using the constraints of the GEDCOM file\n",
    "                sex1 = element.get_gender()\n",
    "                if sex1 == 'F':\n",
    "                    (first_1, last_1) = element.get_name()\n",
    "                    INDI_mother = element.get_pointer() \n",
    "                else: # if sex1 == 'M':\n",
    "                    (first_2, last_2) = element.get_name()\n",
    "                    INDI_father = element.get_pointer()\n",
    "                        \n",
    "            \n",
    "            #append all variables to my empty list to make it a big ol' list of data\n",
    "            data.append([first, last, sex, DOB[0], DOD[0], INDI, parents, INDI_mother, first_1, last_1, INDI_father, first_2, last_2])\n",
    "            \n",
    "            # FYI for hierarchy - get_level returned 0 for everybody (confirmation of D3.js suspicion)"
   ]
  },
  {
   "cell_type": "code",
   "execution_count": 31,
   "metadata": {},
   "outputs": [
    {
     "data": {
      "text/plain": [
       "[['James Garrett',\n",
       "  'Biddle',\n",
       "  'M',\n",
       "  '13 Oct 1868',\n",
       "  '21 Dec 1947',\n",
       "  '@P1@',\n",
       "  [<gedcom.element.individual.IndividualElement at 0x7fbc22cd1f70>,\n",
       "   <gedcom.element.individual.IndividualElement at 0x7fbc22cc8e20>],\n",
       "  '@P3@',\n",
       "  'Mary',\n",
       "  'Hewes',\n",
       "  '@P4@',\n",
       "  'John William',\n",
       "  'Biddle'],\n",
       " ['Mary',\n",
       "  'Hutton',\n",
       "  'F',\n",
       "  '11 Sep 1869',\n",
       "  '17 Oct 1925',\n",
       "  '@P2@',\n",
       "  [<gedcom.element.individual.IndividualElement at 0x7fbc22d81820>,\n",
       "   <gedcom.element.individual.IndividualElement at 0x7fbc22d6bdc0>],\n",
       "  '@P15@',\n",
       "  'Rebecca',\n",
       "  'Savery',\n",
       "  '@P16@',\n",
       "  'Addison',\n",
       "  'Hutton'],\n",
       " ['Mary',\n",
       "  'Hewes',\n",
       "  'F',\n",
       "  '26 Oct 1842',\n",
       "  '25 May 1874',\n",
       "  '@P3@',\n",
       "  [<gedcom.element.individual.IndividualElement at 0x7fbc22d95730>,\n",
       "   <gedcom.element.individual.IndividualElement at 0x7fbc22d954c0>],\n",
       "  '@P17@',\n",
       "  'Sarah S',\n",
       "  'Garrett',\n",
       "  '@P18@',\n",
       "  'Edward C',\n",
       "  'Hewes']]"
      ]
     },
     "execution_count": 31,
     "metadata": {},
     "output_type": "execute_result"
    }
   ],
   "source": [
    "# check out the data\n",
    "data[0:3]"
   ]
  },
  {
   "cell_type": "code",
   "execution_count": 22,
   "metadata": {
    "scrolled": true
   },
   "outputs": [],
   "source": [
    "# explicitly name columns and use pandas to turn the list into a dataframe\n",
    "my_df = pd.DataFrame(data, columns=['first', 'last', 'sex', 'DOB', 'DOD', 'INDI_ID', 'parents', 'INDI_mother', 'first_1', 'last_1','INDI_father', 'first_2', 'last_2'])"
   ]
  },
  {
   "cell_type": "code",
   "execution_count": 23,
   "metadata": {},
   "outputs": [
    {
     "data": {
      "text/html": [
       "<div>\n",
       "<style scoped>\n",
       "    .dataframe tbody tr th:only-of-type {\n",
       "        vertical-align: middle;\n",
       "    }\n",
       "\n",
       "    .dataframe tbody tr th {\n",
       "        vertical-align: top;\n",
       "    }\n",
       "\n",
       "    .dataframe thead th {\n",
       "        text-align: right;\n",
       "    }\n",
       "</style>\n",
       "<table border=\"1\" class=\"dataframe\">\n",
       "  <thead>\n",
       "    <tr style=\"text-align: right;\">\n",
       "      <th></th>\n",
       "      <th>first</th>\n",
       "      <th>last</th>\n",
       "      <th>sex</th>\n",
       "      <th>DOB</th>\n",
       "      <th>DOD</th>\n",
       "      <th>INDI_ID</th>\n",
       "      <th>parents</th>\n",
       "      <th>INDI_mother</th>\n",
       "      <th>first_1</th>\n",
       "      <th>last_1</th>\n",
       "      <th>INDI_father</th>\n",
       "      <th>first_2</th>\n",
       "      <th>last_2</th>\n",
       "    </tr>\n",
       "  </thead>\n",
       "  <tbody>\n",
       "    <tr>\n",
       "      <th>0</th>\n",
       "      <td>James Garrett</td>\n",
       "      <td>Biddle</td>\n",
       "      <td>M</td>\n",
       "      <td>13 Oct 1868</td>\n",
       "      <td>21 Dec 1947</td>\n",
       "      <td>@P1@</td>\n",
       "      <td>[0 @P4@ INDI\\r\\n, 0 @P3@ INDI\\r\\n]</td>\n",
       "      <td>@P3@</td>\n",
       "      <td>Mary</td>\n",
       "      <td>Hewes</td>\n",
       "      <td>@P4@</td>\n",
       "      <td>John William</td>\n",
       "      <td>Biddle</td>\n",
       "    </tr>\n",
       "    <tr>\n",
       "      <th>1</th>\n",
       "      <td>Mary</td>\n",
       "      <td>Hutton</td>\n",
       "      <td>F</td>\n",
       "      <td>11 Sep 1869</td>\n",
       "      <td>17 Oct 1925</td>\n",
       "      <td>@P2@</td>\n",
       "      <td>[0 @P16@ INDI\\r\\n, 0 @P15@ INDI\\r\\n]</td>\n",
       "      <td>@P15@</td>\n",
       "      <td>Rebecca</td>\n",
       "      <td>Savery</td>\n",
       "      <td>@P16@</td>\n",
       "      <td>Addison</td>\n",
       "      <td>Hutton</td>\n",
       "    </tr>\n",
       "    <tr>\n",
       "      <th>2</th>\n",
       "      <td>Mary</td>\n",
       "      <td>Hewes</td>\n",
       "      <td>F</td>\n",
       "      <td>26 Oct 1842</td>\n",
       "      <td>25 May 1874</td>\n",
       "      <td>@P3@</td>\n",
       "      <td>[0 @P18@ INDI\\r\\n, 0 @P17@ INDI\\r\\n]</td>\n",
       "      <td>@P17@</td>\n",
       "      <td>Sarah S</td>\n",
       "      <td>Garrett</td>\n",
       "      <td>@P18@</td>\n",
       "      <td>Edward C</td>\n",
       "      <td>Hewes</td>\n",
       "    </tr>\n",
       "    <tr>\n",
       "      <th>3</th>\n",
       "      <td>John William</td>\n",
       "      <td>Biddle</td>\n",
       "      <td>M</td>\n",
       "      <td>02 Aug 1835</td>\n",
       "      <td>02 Jun 1916</td>\n",
       "      <td>@P4@</td>\n",
       "      <td>[0 @P12@ INDI\\r\\n, 0 @P13@ INDI\\r\\n]</td>\n",
       "      <td>@P13@</td>\n",
       "      <td>Elizabeth Cesson</td>\n",
       "      <td>Biddle</td>\n",
       "      <td>@P12@</td>\n",
       "      <td>William</td>\n",
       "      <td>Biddle</td>\n",
       "    </tr>\n",
       "    <tr>\n",
       "      <th>4</th>\n",
       "      <td>Addison Hutton</td>\n",
       "      <td>Biddle</td>\n",
       "      <td>M</td>\n",
       "      <td>11 Dec 1903</td>\n",
       "      <td>03 Mar 1912</td>\n",
       "      <td>@P5@</td>\n",
       "      <td>[0 @P1@ INDI\\r\\n, 0 @P2@ INDI\\r\\n]</td>\n",
       "      <td>@P2@</td>\n",
       "      <td>Mary</td>\n",
       "      <td>Hutton</td>\n",
       "      <td>@P1@</td>\n",
       "      <td>James Garrett</td>\n",
       "      <td>Biddle</td>\n",
       "    </tr>\n",
       "    <tr>\n",
       "      <th>5</th>\n",
       "      <td>Ruth</td>\n",
       "      <td>Biddle</td>\n",
       "      <td>F</td>\n",
       "      <td>06 Nov 1906</td>\n",
       "      <td>29 Jan 1969</td>\n",
       "      <td>@P6@</td>\n",
       "      <td>[0 @P1@ INDI\\r\\n, 0 @P2@ INDI\\r\\n]</td>\n",
       "      <td>@P2@</td>\n",
       "      <td>Mary</td>\n",
       "      <td>Hutton</td>\n",
       "      <td>@P1@</td>\n",
       "      <td>James Garrett</td>\n",
       "      <td>Biddle</td>\n",
       "    </tr>\n",
       "    <tr>\n",
       "      <th>6</th>\n",
       "      <td>Rebecca Hutton</td>\n",
       "      <td>Biddle</td>\n",
       "      <td>F</td>\n",
       "      <td>08 Jun 1901</td>\n",
       "      <td>04 Mar 1991</td>\n",
       "      <td>@P7@</td>\n",
       "      <td>[0 @P1@ INDI\\r\\n, 0 @P2@ INDI\\r\\n]</td>\n",
       "      <td>@P2@</td>\n",
       "      <td>Mary</td>\n",
       "      <td>Hutton</td>\n",
       "      <td>@P1@</td>\n",
       "      <td>James Garrett</td>\n",
       "      <td>Biddle</td>\n",
       "    </tr>\n",
       "    <tr>\n",
       "      <th>7</th>\n",
       "      <td>Elizabeth Rebecca</td>\n",
       "      <td>Biddle</td>\n",
       "      <td>F</td>\n",
       "      <td>22 Mar 1897</td>\n",
       "      <td>25 Mar 1975</td>\n",
       "      <td>@P8@</td>\n",
       "      <td>[0 @P1@ INDI\\r\\n, 0 @P2@ INDI\\r\\n]</td>\n",
       "      <td>@P2@</td>\n",
       "      <td>Mary</td>\n",
       "      <td>Hutton</td>\n",
       "      <td>@P1@</td>\n",
       "      <td>James Garrett</td>\n",
       "      <td>Biddle</td>\n",
       "    </tr>\n",
       "    <tr>\n",
       "      <th>8</th>\n",
       "      <td>Dorothy</td>\n",
       "      <td>Biddle</td>\n",
       "      <td>F</td>\n",
       "      <td>25 Jan 1900</td>\n",
       "      <td>15 Feb 1985</td>\n",
       "      <td>@P9@</td>\n",
       "      <td>[0 @P1@ INDI\\r\\n, 0 @P2@ INDI\\r\\n]</td>\n",
       "      <td>@P2@</td>\n",
       "      <td>Mary</td>\n",
       "      <td>Hutton</td>\n",
       "      <td>@P1@</td>\n",
       "      <td>James Garrett</td>\n",
       "      <td>Biddle</td>\n",
       "    </tr>\n",
       "    <tr>\n",
       "      <th>9</th>\n",
       "      <td>Mary Hewes</td>\n",
       "      <td>Biddle</td>\n",
       "      <td>F</td>\n",
       "      <td>10 Aug 1898</td>\n",
       "      <td>28 Dec 1963</td>\n",
       "      <td>@P10@</td>\n",
       "      <td>[0 @P1@ INDI\\r\\n, 0 @P2@ INDI\\r\\n]</td>\n",
       "      <td>@P2@</td>\n",
       "      <td>Mary</td>\n",
       "      <td>Hutton</td>\n",
       "      <td>@P1@</td>\n",
       "      <td>James Garrett</td>\n",
       "      <td>Biddle</td>\n",
       "    </tr>\n",
       "  </tbody>\n",
       "</table>\n",
       "</div>"
      ],
      "text/plain": [
       "               first    last sex          DOB          DOD INDI_ID  \\\n",
       "0      James Garrett  Biddle   M  13 Oct 1868  21 Dec 1947    @P1@   \n",
       "1               Mary  Hutton   F  11 Sep 1869  17 Oct 1925    @P2@   \n",
       "2               Mary   Hewes   F  26 Oct 1842  25 May 1874    @P3@   \n",
       "3       John William  Biddle   M  02 Aug 1835  02 Jun 1916    @P4@   \n",
       "4     Addison Hutton  Biddle   M  11 Dec 1903  03 Mar 1912    @P5@   \n",
       "5               Ruth  Biddle   F  06 Nov 1906  29 Jan 1969    @P6@   \n",
       "6     Rebecca Hutton  Biddle   F  08 Jun 1901  04 Mar 1991    @P7@   \n",
       "7  Elizabeth Rebecca  Biddle   F  22 Mar 1897  25 Mar 1975    @P8@   \n",
       "8            Dorothy  Biddle   F  25 Jan 1900  15 Feb 1985    @P9@   \n",
       "9         Mary Hewes  Biddle   F  10 Aug 1898  28 Dec 1963   @P10@   \n",
       "\n",
       "                                parents INDI_mother           first_1  \\\n",
       "0    [0 @P4@ INDI\\r\\n, 0 @P3@ INDI\\r\\n]        @P3@              Mary   \n",
       "1  [0 @P16@ INDI\\r\\n, 0 @P15@ INDI\\r\\n]       @P15@           Rebecca   \n",
       "2  [0 @P18@ INDI\\r\\n, 0 @P17@ INDI\\r\\n]       @P17@           Sarah S   \n",
       "3  [0 @P12@ INDI\\r\\n, 0 @P13@ INDI\\r\\n]       @P13@  Elizabeth Cesson   \n",
       "4    [0 @P1@ INDI\\r\\n, 0 @P2@ INDI\\r\\n]        @P2@              Mary   \n",
       "5    [0 @P1@ INDI\\r\\n, 0 @P2@ INDI\\r\\n]        @P2@              Mary   \n",
       "6    [0 @P1@ INDI\\r\\n, 0 @P2@ INDI\\r\\n]        @P2@              Mary   \n",
       "7    [0 @P1@ INDI\\r\\n, 0 @P2@ INDI\\r\\n]        @P2@              Mary   \n",
       "8    [0 @P1@ INDI\\r\\n, 0 @P2@ INDI\\r\\n]        @P2@              Mary   \n",
       "9    [0 @P1@ INDI\\r\\n, 0 @P2@ INDI\\r\\n]        @P2@              Mary   \n",
       "\n",
       "    last_1 INDI_father        first_2  last_2  \n",
       "0    Hewes        @P4@   John William  Biddle  \n",
       "1   Savery       @P16@        Addison  Hutton  \n",
       "2  Garrett       @P18@       Edward C   Hewes  \n",
       "3   Biddle       @P12@        William  Biddle  \n",
       "4   Hutton        @P1@  James Garrett  Biddle  \n",
       "5   Hutton        @P1@  James Garrett  Biddle  \n",
       "6   Hutton        @P1@  James Garrett  Biddle  \n",
       "7   Hutton        @P1@  James Garrett  Biddle  \n",
       "8   Hutton        @P1@  James Garrett  Biddle  \n",
       "9   Hutton        @P1@  James Garrett  Biddle  "
      ]
     },
     "execution_count": 23,
     "metadata": {},
     "output_type": "execute_result"
    }
   ],
   "source": [
    "# check out the dataframe\n",
    "my_df[0:10]"
   ]
  },
  {
   "cell_type": "code",
   "execution_count": 342,
   "metadata": {},
   "outputs": [],
   "source": [
    "# it works! export as a csv file\n",
    "my_df.to_csv('JGB_MHB.csv')"
   ]
  }
 ],
 "metadata": {
  "kernelspec": {
   "display_name": "Python 3",
   "language": "python",
   "name": "python3"
  },
  "language_info": {
   "codemirror_mode": {
    "name": "ipython",
    "version": 3
   },
   "file_extension": ".py",
   "mimetype": "text/x-python",
   "name": "python",
   "nbconvert_exporter": "python",
   "pygments_lexer": "ipython3",
   "version": "3.8.5"
  }
 },
 "nbformat": 4,
 "nbformat_minor": 4
}
