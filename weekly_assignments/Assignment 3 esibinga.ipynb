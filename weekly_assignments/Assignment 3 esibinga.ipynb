{
 "cells": [
  {
   "cell_type": "markdown",
   "metadata": {},
   "source": [
    "Eva Sibinga\n",
    "Assignment 3\n",
    "3/9/20\n",
    "Prof. Timothy Shortell - Working With Data\n",
    "CUNY Graduate Center"
   ]
  },
  {
   "cell_type": "code",
   "execution_count": 13,
   "metadata": {},
   "outputs": [],
   "source": [
    "import pandas as pd\n",
    "import numpy as np\n",
    "import matplotlib.pyplot as plt"
   ]
  },
  {
   "cell_type": "code",
   "execution_count": 4,
   "metadata": {},
   "outputs": [
    {
     "data": {
      "text/html": [
       "<div>\n",
       "<style scoped>\n",
       "    .dataframe tbody tr th:only-of-type {\n",
       "        vertical-align: middle;\n",
       "    }\n",
       "\n",
       "    .dataframe tbody tr th {\n",
       "        vertical-align: top;\n",
       "    }\n",
       "\n",
       "    .dataframe thead th {\n",
       "        text-align: right;\n",
       "    }\n",
       "</style>\n",
       "<table border=\"1\" class=\"dataframe\">\n",
       "  <thead>\n",
       "    <tr style=\"text-align: right;\">\n",
       "      <th></th>\n",
       "      <th>ca</th>\n",
       "      <th>community_area_name</th>\n",
       "      <th>hardship_index</th>\n",
       "      <th>per_capita_income_</th>\n",
       "      <th>percent_aged_16_unemployed</th>\n",
       "      <th>percent_aged_25_without_high_school_diploma</th>\n",
       "      <th>percent_aged_under_18_or_over_64</th>\n",
       "      <th>percent_households_below_poverty</th>\n",
       "      <th>percent_of_housing_crowded</th>\n",
       "    </tr>\n",
       "  </thead>\n",
       "  <tbody>\n",
       "    <tr>\n",
       "      <th>0</th>\n",
       "      <td>1.0</td>\n",
       "      <td>Rogers Park</td>\n",
       "      <td>39.0</td>\n",
       "      <td>23939</td>\n",
       "      <td>8.7</td>\n",
       "      <td>18.2</td>\n",
       "      <td>27.5</td>\n",
       "      <td>23.6</td>\n",
       "      <td>7.7</td>\n",
       "    </tr>\n",
       "    <tr>\n",
       "      <th>1</th>\n",
       "      <td>2.0</td>\n",
       "      <td>West Ridge</td>\n",
       "      <td>46.0</td>\n",
       "      <td>23040</td>\n",
       "      <td>8.8</td>\n",
       "      <td>20.8</td>\n",
       "      <td>38.5</td>\n",
       "      <td>17.2</td>\n",
       "      <td>7.8</td>\n",
       "    </tr>\n",
       "    <tr>\n",
       "      <th>2</th>\n",
       "      <td>3.0</td>\n",
       "      <td>Uptown</td>\n",
       "      <td>20.0</td>\n",
       "      <td>35787</td>\n",
       "      <td>8.9</td>\n",
       "      <td>11.8</td>\n",
       "      <td>22.2</td>\n",
       "      <td>24.0</td>\n",
       "      <td>3.8</td>\n",
       "    </tr>\n",
       "    <tr>\n",
       "      <th>3</th>\n",
       "      <td>4.0</td>\n",
       "      <td>Lincoln Square</td>\n",
       "      <td>17.0</td>\n",
       "      <td>37524</td>\n",
       "      <td>8.2</td>\n",
       "      <td>13.4</td>\n",
       "      <td>25.5</td>\n",
       "      <td>10.9</td>\n",
       "      <td>3.4</td>\n",
       "    </tr>\n",
       "    <tr>\n",
       "      <th>4</th>\n",
       "      <td>5.0</td>\n",
       "      <td>North Center</td>\n",
       "      <td>6.0</td>\n",
       "      <td>57123</td>\n",
       "      <td>5.2</td>\n",
       "      <td>4.5</td>\n",
       "      <td>26.2</td>\n",
       "      <td>7.5</td>\n",
       "      <td>0.3</td>\n",
       "    </tr>\n",
       "  </tbody>\n",
       "</table>\n",
       "</div>"
      ],
      "text/plain": [
       "    ca community_area_name  hardship_index  per_capita_income_  \\\n",
       "0  1.0         Rogers Park            39.0               23939   \n",
       "1  2.0          West Ridge            46.0               23040   \n",
       "2  3.0              Uptown            20.0               35787   \n",
       "3  4.0      Lincoln Square            17.0               37524   \n",
       "4  5.0        North Center             6.0               57123   \n",
       "\n",
       "   percent_aged_16_unemployed  percent_aged_25_without_high_school_diploma  \\\n",
       "0                         8.7                                         18.2   \n",
       "1                         8.8                                         20.8   \n",
       "2                         8.9                                         11.8   \n",
       "3                         8.2                                         13.4   \n",
       "4                         5.2                                          4.5   \n",
       "\n",
       "   percent_aged_under_18_or_over_64  percent_households_below_poverty  \\\n",
       "0                              27.5                              23.6   \n",
       "1                              38.5                              17.2   \n",
       "2                              22.2                              24.0   \n",
       "3                              25.5                              10.9   \n",
       "4                              26.2                               7.5   \n",
       "\n",
       "   percent_of_housing_crowded  \n",
       "0                         7.7  \n",
       "1                         7.8  \n",
       "2                         3.8  \n",
       "3                         3.4  \n",
       "4                         0.3  "
      ]
     },
     "execution_count": 4,
     "metadata": {},
     "output_type": "execute_result"
    }
   ],
   "source": [
    "chicagoDF = pd.read_json('https://data.cityofchicago.org/resource/kn9c-c2s2.json')\n",
    "chicagoDF.head()"
   ]
  },
  {
   "cell_type": "code",
   "execution_count": 5,
   "metadata": {},
   "outputs": [],
   "source": [
    "cols_to_drop = [\"percent_aged_16_unemployed\", \"percent_aged_25_without_high_school_diploma\"]"
   ]
  },
  {
   "cell_type": "code",
   "execution_count": 7,
   "metadata": {},
   "outputs": [],
   "source": [
    "chicagoDF = chicagoDF.drop(cols_to_drop, axis=1)"
   ]
  },
  {
   "cell_type": "code",
   "execution_count": 9,
   "metadata": {},
   "outputs": [
    {
     "data": {
      "text/html": [
       "<div>\n",
       "<style scoped>\n",
       "    .dataframe tbody tr th:only-of-type {\n",
       "        vertical-align: middle;\n",
       "    }\n",
       "\n",
       "    .dataframe tbody tr th {\n",
       "        vertical-align: top;\n",
       "    }\n",
       "\n",
       "    .dataframe thead th {\n",
       "        text-align: right;\n",
       "    }\n",
       "</style>\n",
       "<table border=\"1\" class=\"dataframe\">\n",
       "  <thead>\n",
       "    <tr style=\"text-align: right;\">\n",
       "      <th></th>\n",
       "      <th>ca</th>\n",
       "      <th>community_area_name</th>\n",
       "      <th>hardship_index</th>\n",
       "      <th>per_capita_income_</th>\n",
       "      <th>percent_aged_under_18_or_over_64</th>\n",
       "      <th>percent_households_below_poverty</th>\n",
       "      <th>percent_of_housing_crowded</th>\n",
       "    </tr>\n",
       "  </thead>\n",
       "  <tbody>\n",
       "    <tr>\n",
       "      <th>0</th>\n",
       "      <td>1.0</td>\n",
       "      <td>Rogers Park</td>\n",
       "      <td>39.0</td>\n",
       "      <td>23939</td>\n",
       "      <td>27.5</td>\n",
       "      <td>23.6</td>\n",
       "      <td>7.7</td>\n",
       "    </tr>\n",
       "    <tr>\n",
       "      <th>1</th>\n",
       "      <td>2.0</td>\n",
       "      <td>West Ridge</td>\n",
       "      <td>46.0</td>\n",
       "      <td>23040</td>\n",
       "      <td>38.5</td>\n",
       "      <td>17.2</td>\n",
       "      <td>7.8</td>\n",
       "    </tr>\n",
       "    <tr>\n",
       "      <th>2</th>\n",
       "      <td>3.0</td>\n",
       "      <td>Uptown</td>\n",
       "      <td>20.0</td>\n",
       "      <td>35787</td>\n",
       "      <td>22.2</td>\n",
       "      <td>24.0</td>\n",
       "      <td>3.8</td>\n",
       "    </tr>\n",
       "    <tr>\n",
       "      <th>3</th>\n",
       "      <td>4.0</td>\n",
       "      <td>Lincoln Square</td>\n",
       "      <td>17.0</td>\n",
       "      <td>37524</td>\n",
       "      <td>25.5</td>\n",
       "      <td>10.9</td>\n",
       "      <td>3.4</td>\n",
       "    </tr>\n",
       "    <tr>\n",
       "      <th>4</th>\n",
       "      <td>5.0</td>\n",
       "      <td>North Center</td>\n",
       "      <td>6.0</td>\n",
       "      <td>57123</td>\n",
       "      <td>26.2</td>\n",
       "      <td>7.5</td>\n",
       "      <td>0.3</td>\n",
       "    </tr>\n",
       "  </tbody>\n",
       "</table>\n",
       "</div>"
      ],
      "text/plain": [
       "    ca community_area_name  hardship_index  per_capita_income_  \\\n",
       "0  1.0         Rogers Park            39.0               23939   \n",
       "1  2.0          West Ridge            46.0               23040   \n",
       "2  3.0              Uptown            20.0               35787   \n",
       "3  4.0      Lincoln Square            17.0               37524   \n",
       "4  5.0        North Center             6.0               57123   \n",
       "\n",
       "   percent_aged_under_18_or_over_64  percent_households_below_poverty  \\\n",
       "0                              27.5                              23.6   \n",
       "1                              38.5                              17.2   \n",
       "2                              22.2                              24.0   \n",
       "3                              25.5                              10.9   \n",
       "4                              26.2                               7.5   \n",
       "\n",
       "   percent_of_housing_crowded  \n",
       "0                         7.7  \n",
       "1                         7.8  \n",
       "2                         3.8  \n",
       "3                         3.4  \n",
       "4                         0.3  "
      ]
     },
     "execution_count": 9,
     "metadata": {},
     "output_type": "execute_result"
    }
   ],
   "source": [
    "chicagoDF.head()"
   ]
  },
  {
   "cell_type": "code",
   "execution_count": 10,
   "metadata": {},
   "outputs": [],
   "source": [
    "chicagoDF['percap_income_dividedby_hardship_index'] = chicagoDF['per_capita_income_']/chicagoDF['hardship_index']"
   ]
  },
  {
   "cell_type": "code",
   "execution_count": 11,
   "metadata": {},
   "outputs": [
    {
     "data": {
      "text/html": [
       "<div>\n",
       "<style scoped>\n",
       "    .dataframe tbody tr th:only-of-type {\n",
       "        vertical-align: middle;\n",
       "    }\n",
       "\n",
       "    .dataframe tbody tr th {\n",
       "        vertical-align: top;\n",
       "    }\n",
       "\n",
       "    .dataframe thead th {\n",
       "        text-align: right;\n",
       "    }\n",
       "</style>\n",
       "<table border=\"1\" class=\"dataframe\">\n",
       "  <thead>\n",
       "    <tr style=\"text-align: right;\">\n",
       "      <th></th>\n",
       "      <th>ca</th>\n",
       "      <th>community_area_name</th>\n",
       "      <th>hardship_index</th>\n",
       "      <th>per_capita_income_</th>\n",
       "      <th>percent_aged_under_18_or_over_64</th>\n",
       "      <th>percent_households_below_poverty</th>\n",
       "      <th>percent_of_housing_crowded</th>\n",
       "      <th>percap_income_dividedby_hardship_index</th>\n",
       "    </tr>\n",
       "  </thead>\n",
       "  <tbody>\n",
       "    <tr>\n",
       "      <th>0</th>\n",
       "      <td>1.0</td>\n",
       "      <td>Rogers Park</td>\n",
       "      <td>39.0</td>\n",
       "      <td>23939</td>\n",
       "      <td>27.5</td>\n",
       "      <td>23.6</td>\n",
       "      <td>7.7</td>\n",
       "      <td>613.820513</td>\n",
       "    </tr>\n",
       "    <tr>\n",
       "      <th>1</th>\n",
       "      <td>2.0</td>\n",
       "      <td>West Ridge</td>\n",
       "      <td>46.0</td>\n",
       "      <td>23040</td>\n",
       "      <td>38.5</td>\n",
       "      <td>17.2</td>\n",
       "      <td>7.8</td>\n",
       "      <td>500.869565</td>\n",
       "    </tr>\n",
       "    <tr>\n",
       "      <th>2</th>\n",
       "      <td>3.0</td>\n",
       "      <td>Uptown</td>\n",
       "      <td>20.0</td>\n",
       "      <td>35787</td>\n",
       "      <td>22.2</td>\n",
       "      <td>24.0</td>\n",
       "      <td>3.8</td>\n",
       "      <td>1789.350000</td>\n",
       "    </tr>\n",
       "    <tr>\n",
       "      <th>3</th>\n",
       "      <td>4.0</td>\n",
       "      <td>Lincoln Square</td>\n",
       "      <td>17.0</td>\n",
       "      <td>37524</td>\n",
       "      <td>25.5</td>\n",
       "      <td>10.9</td>\n",
       "      <td>3.4</td>\n",
       "      <td>2207.294118</td>\n",
       "    </tr>\n",
       "    <tr>\n",
       "      <th>4</th>\n",
       "      <td>5.0</td>\n",
       "      <td>North Center</td>\n",
       "      <td>6.0</td>\n",
       "      <td>57123</td>\n",
       "      <td>26.2</td>\n",
       "      <td>7.5</td>\n",
       "      <td>0.3</td>\n",
       "      <td>9520.500000</td>\n",
       "    </tr>\n",
       "  </tbody>\n",
       "</table>\n",
       "</div>"
      ],
      "text/plain": [
       "    ca community_area_name  hardship_index  per_capita_income_  \\\n",
       "0  1.0         Rogers Park            39.0               23939   \n",
       "1  2.0          West Ridge            46.0               23040   \n",
       "2  3.0              Uptown            20.0               35787   \n",
       "3  4.0      Lincoln Square            17.0               37524   \n",
       "4  5.0        North Center             6.0               57123   \n",
       "\n",
       "   percent_aged_under_18_or_over_64  percent_households_below_poverty  \\\n",
       "0                              27.5                              23.6   \n",
       "1                              38.5                              17.2   \n",
       "2                              22.2                              24.0   \n",
       "3                              25.5                              10.9   \n",
       "4                              26.2                               7.5   \n",
       "\n",
       "   percent_of_housing_crowded  percap_income_dividedby_hardship_index  \n",
       "0                         7.7                              613.820513  \n",
       "1                         7.8                              500.869565  \n",
       "2                         3.8                             1789.350000  \n",
       "3                         3.4                             2207.294118  \n",
       "4                         0.3                             9520.500000  "
      ]
     },
     "execution_count": 11,
     "metadata": {},
     "output_type": "execute_result"
    }
   ],
   "source": [
    "chicagoDF.head()"
   ]
  },
  {
   "cell_type": "code",
   "execution_count": 12,
   "metadata": {},
   "outputs": [],
   "source": [
    "chicagoDF.to_csv('chicagoDF.csv')"
   ]
  },
  {
   "cell_type": "code",
   "execution_count": 14,
   "metadata": {},
   "outputs": [],
   "source": [
    "x = chicagoDF['hardship_index']\n",
    "y = chicagoDF['per_capita_income_']"
   ]
  },
  {
   "cell_type": "code",
   "execution_count": 20,
   "metadata": {},
   "outputs": [
    {
     "data": {
      "image/png": "[encoded data removed]",
      "text/plain": [
       "<Figure size 432x288 with 1 Axes>"
      ]
     },
     "metadata": {
      "needs_background": "light"
     },
     "output_type": "display_data"
    }
   ],
   "source": [
    "plt.plot(x,y, 'o', color='black');"
   ]
  },
  {
   "cell_type": "code",
   "execution_count": 18,
   "metadata": {
    "scrolled": true
   },
   "outputs": [
    {
     "data": {
      "image/png": "[encoded data removed]",
      "text/plain": [
       "<Figure size 432x288 with 1 Axes>"
      ]
     },
     "metadata": {
      "needs_background": "light"
     },
     "output_type": "display_data"
    }
   ],
   "source": [
    "z = chicagoDF['percap_income_dividedby_hardship_index']\n",
    "y = chicagoDF['per_capita_income_']\n",
    "\n",
    "plt.plot(y,z, 'o', color='black');"
   ]
  },
  {
   "cell_type": "markdown",
   "metadata": {},
   "source": [
    "#6. The first graph shows the relationship between hardship index and per capita income. There's a strong negative correlation: as per capita income decreases, hardship score increases, with few deviations away from the trend. This suggests that income is a strong predictor of hardship score, and more generally that income has a big impact on the relative hardship of a life (as measured by this score). I'd definitely like to know more about what the hardship score means and how it is used. I can think of several ways in which the score might help to distribute resources equitably or decide who to help first, and also think of many ways in which a general hardship score could be misinterpreted, abused, or used prescriptively to write off people it's ostensibly supposed to help. \n",
    "\n",
    "#6. (extra graph) I was also curious about dividing income by hardship index, which is what the second graph shows. I'm not sure if this is statistically sound, but mathematically it makes sense to me that there's more distribution at the top. At the bottom, the fraction will approach 1 as the income gets lower and hardship index gets higher, and on the other end, the numerator is limited mostly by income as hardship index gets exponentially lower. I think the visualization (if it's statistically viable) helps to show how many MORE data points are at the low end of the spectrum than at the high end. That being said, I'm curious to know if the graph would be considered misleading."
   ]
  },
  {
   "cell_type": "markdown",
   "metadata": {},
   "source": [
    "#7. Which values in this dataframe have the largest impact (i.e. are most strongly correlated) with the hardship score? How is the hardship score determined? Graphing the correlation between hardship score and income returned an obvious connection. Is there just as strong of a connection between crowded housing and hardship? It's hard to argue that living below the poverty line could make anyone's life less hard, but it seems more possible that there could be some positive factors to living in close quarters with other people, even if crowded housing has a net-negative impact. ... Let's just check it out:"
   ]
  },
  {
   "cell_type": "code",
   "execution_count": 21,
   "metadata": {},
   "outputs": [
    {
     "data": {
      "image/png": "[encoded data removed]",
      "text/plain": [
       "<Figure size 432x288 with 1 Axes>"
      ]
     },
     "metadata": {
      "needs_background": "light"
     },
     "output_type": "display_data"
    }
   ],
   "source": [
    "x = chicagoDF['hardship_index']\n",
    "w = chicagoDF['percent_of_housing_crowded']\n",
    "plt.plot(x,w, 'o', color='black');"
   ]
  },
  {
   "cell_type": "markdown",
   "metadata": {},
   "source": [
    "This graph looks quite different from the hardship score/income graph. It shows a weaker correlation between hardship score and crowded housing, since there are more points that do not fit the line of regression. That being said, it says loud and clear that there are not crowded houses with low hardship indices, although the reverse may be true. So crowded housing is not as good a predictor of hardship score as income is, since it is possible to have un-crowded housing and still have a high hardship score, but it is not possible to have high income and a high hardship score. "
   ]
  }
 ],
 "metadata": {
  "kernelspec": {
   "display_name": "Python 3",
   "language": "python",
   "name": "python3"
  },
  "language_info": {
   "codemirror_mode": {
    "name": "ipython",
    "version": 3
   },
   "file_extension": ".py",
   "mimetype": "text/x-python",
   "name": "python",
   "nbconvert_exporter": "python",
   "pygments_lexer": "ipython3",
   "version": "3.7.3"
  }
 },
 "nbformat": 4,
 "nbformat_minor": 2
}
